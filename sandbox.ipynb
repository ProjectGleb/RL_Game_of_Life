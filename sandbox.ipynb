{
 "cells": [
  {
   "cell_type": "code",
   "execution_count": 6,
   "metadata": {},
   "outputs": [
    {
     "ename": "IndentationError",
     "evalue": "expected an indented block after function definition on line 6 (1718200337.py, line 7)",
     "output_type": "error",
     "traceback": [
      "\u001b[0;36m  Cell \u001b[0;32mIn[6], line 7\u001b[0;36m\u001b[0m\n\u001b[0;31m    for i, cell in enumerate(array):\u001b[0m\n\u001b[0m    ^\u001b[0m\n\u001b[0;31mIndentationError\u001b[0m\u001b[0;31m:\u001b[0m expected an indented block after function definition on line 6\n"
     ]
    }
   ],
   "source": [
    "\n",
    "    #[{'totalCells': 200, 'activeCells': [[1, 2], [1, 3]]}]\n",
    "\n",
    "storage_dict = {}\n",
    "array = [[1, 2], [1, 3]]\n",
    "\n",
    "def process_cells():\n",
    "    for i, cell in enumerate(array, start = 1):\n",
    "        storage_dict[f'cell{i}'] = cell  # Correctly format the string to include i\n",
    "    print(storage_dict)\n",
    "\n",
    "process_cells()\n"
   ]
  },
  {
   "cell_type": "code",
   "execution_count": 11,
   "metadata": {},
   "outputs": [
    {
     "name": "stdout",
     "output_type": "stream",
     "text": [
      "{'cell1': [1, 2], 'cell2': [1, 3]}\n"
     ]
    }
   ],
   "source": [
    "\n",
    "storage_dict = {}\n",
    "array = [[1, 2], [1, 3]]\n",
    "\n",
    "def process_cells():\n",
    "    for i, cell in enumerate(array, start = 1):\n",
    "        storage_dict[f'cell{i}'] = cell  # Correctly format the string to include i\n",
    "    print(storage_dict)\n",
    "\n",
    "process_cells()"
   ]
  },
  {
   "cell_type": "code",
   "execution_count": null,
   "metadata": {},
   "outputs": [],
   "source": []
  }
 ],
 "metadata": {
  "kernelspec": {
   "display_name": "game_of_life.env",
   "language": "python",
   "name": "python3"
  },
  "language_info": {
   "codemirror_mode": {
    "name": "ipython",
    "version": 3
   },
   "file_extension": ".py",
   "mimetype": "text/x-python",
   "name": "python",
   "nbconvert_exporter": "python",
   "pygments_lexer": "ipython3",
   "version": "3.12.2"
  }
 },
 "nbformat": 4,
 "nbformat_minor": 2
}
